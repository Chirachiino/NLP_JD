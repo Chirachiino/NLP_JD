{
 "cells": [
  {
   "cell_type": "code",
   "execution_count": null,
   "metadata": {},
   "outputs": [],
   "source": [
    "#!./cleaner.py"
   ]
  },
  {
   "cell_type": "code",
   "execution_count": 5,
   "metadata": {},
   "outputs": [],
   "source": [
    "import pandas as pd\n",
    "import spacy,random"
   ]
  },
  {
   "cell_type": "code",
   "execution_count": 2,
   "metadata": {},
   "outputs": [],
   "source": [
    "\n",
    "jd_data=pd.DataFrame(columns=['Job Description','Cleaned JD'])\n",
    "type_names=['DataAnalyst','DataScientist','BusinessAnalyst','DataEngineer']\n",
    "for each in type_names:\n",
    "    try:\n",
    "        jd=pd.read_csv(\"data/cleaned/{}.csv\".format(each))\n",
    "        jd_data=pd.concat([jd_data,jd[jd_data.columns]],ignore_index=True)\n",
    "    except:\n",
    "        pass"
   ]
  },
  {
   "cell_type": "code",
   "execution_count": 3,
   "metadata": {},
   "outputs": [],
   "source": [
    "jds=jd_data['Job Description'].dropna().reset_index(drop=True)\n",
    "jd_cleaned=jd_data['Cleaned JD'].dropna().reset_index(drop=True)\n",
    "\n",
    "jd_useful=[]\n",
    "jd_all=[]\n",
    "jd_waste=[]\n",
    "for i in range(len(jd_cleaned)):\n",
    "    jd_useful.extend(list(filter(None,jd_cleaned[i].splitlines())))\n",
    "for i in range(len(jd_cleaned)):\n",
    "    jd_all.extend(list(filter(None,jds[i].splitlines())))\n",
    "for i in jd_all:\n",
    "    if i not in jd_useful:\n",
    "        jd_waste.append(i)\n"
   ]
  },
  {
   "cell_type": "code",
   "execution_count": 6,
   "metadata": {},
   "outputs": [],
   "source": [
    "nlp=spacy.blank('en')\n",
    "docs=[]\n",
    "for i in jd_useful:\n",
    "    doc=nlp(i)\n",
    "    doc.cats['LABEL']=1\n",
    "    doc.cats['NOT_LABEL']=0\n",
    "    docs.append(doc)\n",
    "for i in jd_waste:\n",
    "    doc=nlp(i)\n",
    "    doc.cats['LABEL']=0\n",
    "    doc.cats['NOT_LABEL']=1\n",
    "    docs.append(doc)\n",
    "\n",
    "random.shuffle(docs)\n",
    "train_docs=docs[:len(docs)//2]\n",
    "dev_docs=docs[len(docs)//2:]\n",
    "\n",
    "spacy.tokens.DocBin(docs=train_docs).to_disk(\"./clean_model/corpus/train.spacy\")\n",
    "spacy.tokens.DocBin(docs=dev_docs).to_disk(\"./clean_model/corpus/dev.spacy\")"
   ]
  },
  {
   "cell_type": "code",
   "execution_count": 7,
   "metadata": {},
   "outputs": [
    {
     "data": {
      "text/plain": [
       "1701"
      ]
     },
     "execution_count": 7,
     "metadata": {},
     "output_type": "execute_result"
    }
   ],
   "source": [
    "len(docs)"
   ]
  },
  {
   "cell_type": "code",
   "execution_count": 11,
   "metadata": {},
   "outputs": [],
   "source": [
    "# redirect into model dir\n",
    "# python -m spacy train ./config.cfg --output ./output\n"
   ]
  },
  {
   "cell_type": "code",
   "execution_count": 8,
   "metadata": {},
   "outputs": [
    {
     "data": {
      "text/plain": [
       "['textcat']"
      ]
     },
     "execution_count": 8,
     "metadata": {},
     "output_type": "execute_result"
    }
   ],
   "source": [
    "nlp=spacy.load(\"./clean_model/output/model-best\")\n",
    "nlp.pipe_names"
   ]
  },
  {
   "cell_type": "code",
   "execution_count": 14,
   "metadata": {},
   "outputs": [],
   "source": [
    "def clean_by_model(line):\n",
    "    str=''\n",
    "    jd_i=list(filter(None,line.splitlines()))\n",
    "    for i in jd_i:\n",
    "        if (nlp(i).cats['LABEL']>0.5):\n",
    "            str=str+i+'\\r\\n'\n",
    "    return str\n",
    "\n",
    "for each in type_names:\n",
    "    jd_data=pd.read_csv(\"data/origin/{}.csv\".format(each))\n",
    "    jd_data['Cleaned JD']=jd_data['Job Description'].apply(clean_by_model)\n",
    "    jd_data.to_csv(\"data/generated/{}.csv\".format(each))"
   ]
  },
  {
   "cell_type": "code",
   "execution_count": null,
   "metadata": {},
   "outputs": [],
   "source": [
    "import spacy\n",
    "nlp = spacy.load('en_core_web_md')\n",
    "nlp.pipe_names"
   ]
  }
 ],
 "metadata": {
  "interpreter": {
   "hash": "73e03da126b73bfff3642ec5261d56fa25c444ea595de51041687efaa60dda41"
  },
  "kernelspec": {
   "display_name": "Python 3.9.12 ('base')",
   "language": "python",
   "name": "python3"
  },
  "language_info": {
   "codemirror_mode": {
    "name": "ipython",
    "version": 3
   },
   "file_extension": ".py",
   "mimetype": "text/x-python",
   "name": "python",
   "nbconvert_exporter": "python",
   "pygments_lexer": "ipython3",
   "version": "3.9.12"
  },
  "orig_nbformat": 4
 },
 "nbformat": 4,
 "nbformat_minor": 2
}
