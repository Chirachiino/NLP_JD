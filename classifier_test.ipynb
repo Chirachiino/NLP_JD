{
 "cells": [
  {
   "cell_type": "code",
   "execution_count": 1,
   "metadata": {},
   "outputs": [],
   "source": [
    "import spacy\n",
    "nlp_classify=spacy.load('./classify_model/output/model-best')\n",
    "nlp_clean=spacy.load('./clean_model/output/model-best')"
   ]
  },
  {
   "cell_type": "code",
   "execution_count": 12,
   "metadata": {},
   "outputs": [
    {
     "name": "stdout",
     "output_type": "stream",
     "text": [
      "Create and update database information, maintain data integrity.\n",
      "Maintain database integrity including, personal and company records.\n",
      "Review prior projects and complete unentered project information.\n",
      "Report on assigned tasks and audits timely and accurately to leadership.\n",
      "Drive results to increase volume of records improve existing records in a timely fashion.\n",
      "Assist team with frequency of questions and information on processes\n",
      "Handle confidential information from clients (pay range, compensation ranges, etc. ) with care and privacy\n",
      "\n"
     ]
    }
   ],
   "source": [
    "jd=\"\"\"\n",
    "Aston Carter is hiring for a Data Analyst: * **INTERVIEWS THIS WEEK**\n",
    "Description:* The Data Analyst is responsible for providing high level data support to our client. This position will create, maintain, and drive data integreity with various internal controls. Working as part of a team this individual will be part of the maintenance, cleansing of records for our internal systems. Candidates will be expected to:\n",
    "Create and update database information, maintain data integrity.\n",
    "Maintain database integrity including, personal and company records.\n",
    "Review prior projects and complete unentered project information.\n",
    "Report on assigned tasks and audits timely and accurately to leadership.\n",
    "Drive results to increase volume of records improve existing records in a timely fashion.\n",
    "Assist team with frequency of questions and information on processes\n",
    "Handle confidential information from clients (pay range, compensation ranges, etc. ) with care and privacy\n",
    "\n",
    "About Aston Carter:\n",
    "\n",
    "At Aston Carter, we   re dedicated to expanding career opportunities for the skilled professionals who power our business. Our success is driven by the talented, motivated people who join our team across a range of positions     from recruiting, sales and delivery to corporate roles. As part of our team, employees have the opportunity for long-term career success, where hard work is rewarded and the potential for growth is limitless. Established in 1997, Aston Carter is a leading staffing and consulting firm, providing high-caliber talent and premium services to more than 7,000 companies across North America. Spanning four continents and more than 200 offices, we extend our clients    capabilities by seeking solvers and delivering solutions to address today   s workforce challenges. For organizations looking for innovative solutions shaped by critical-thinking professionals, visit [AstonCarter.com.](AstonCarter.com) Aston Carter is a company within Allegis Group, a global leader in talent solutions. The company is an equal opportunity employer and will consider all applications without regards to race, sex, age, color, religion, national origin, veteran status, disability, sexual orientation, gender identity, genetic information or any characteristic protected by law. If you would like to request a reasonable accommodation, such as the modification or adjustment of the job application process or interviewing process due to a disability, please call 888-237-6835 or email [astoncarteraccommodation@astoncarter.com](mailto:%20astoncarteraccommodation@astoncarter.com) for other accommodation options. However, if you have questions about this position, please contact the Recruiter located at the bottom of the job posting. The Recruiter is the sole point of contact for questions about this position.\n",
    "\"\"\"\n",
    "def clean_by_model(line):\n",
    "    str=''\n",
    "    jd_i=list(filter(None,line.splitlines()))\n",
    "    for i in jd_i:\n",
    "        if (nlp_clean(i).cats['LABEL']>0.5):\n",
    "            str=str+i+'\\r\\n'\n",
    "    return str\n",
    "\n",
    "jd=clean_by_model(jd)\n",
    "print(jd)"
   ]
  },
  {
   "cell_type": "code",
   "execution_count": 13,
   "metadata": {},
   "outputs": [
    {
     "name": "stdout",
     "output_type": "stream",
     "text": [
      "{'DataAnalyst': 0.5910695791244507, 'DataScientist': 0.4544396996498108, 'BusinessAnalyst': 0.42463287711143494, 'DataEngineer': 0.3135327100753784}\n"
     ]
    }
   ],
   "source": [
    "doc=nlp_classify(jd)\n",
    "print(doc.cats)"
   ]
  },
  {
   "cell_type": "code",
   "execution_count": null,
   "metadata": {},
   "outputs": [],
   "source": []
  }
 ],
 "metadata": {
  "interpreter": {
   "hash": "2be5faf79681da6f2a61fdfdd5405d65d042280f7fba6178067603e3a2925119"
  },
  "kernelspec": {
   "display_name": "Python 3.10.1 64-bit (system)",
   "language": "python",
   "name": "python3"
  },
  "language_info": {
   "codemirror_mode": {
    "name": "ipython",
    "version": 3
   },
   "file_extension": ".py",
   "mimetype": "text/x-python",
   "name": "python",
   "nbconvert_exporter": "python",
   "pygments_lexer": "ipython3",
   "version": "3.10.1"
  },
  "orig_nbformat": 4
 },
 "nbformat": 4,
 "nbformat_minor": 2
}
