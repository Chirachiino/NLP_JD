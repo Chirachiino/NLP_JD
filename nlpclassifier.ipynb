{
 "cells": [
  {
   "cell_type": "code",
   "execution_count": null,
   "metadata": {},
   "outputs": [],
   "source": [
    "# !python -m pip uninstall -y spacy\n",
    "# !python -m pip install -U spacy"
   ]
  },
  {
   "cell_type": "code",
   "execution_count": null,
   "metadata": {},
   "outputs": [],
   "source": [
    "# !python -m spacy init fill-config ./classify_model/base_config.cfg ./classify_model/config.cfg"
   ]
  },
  {
   "cell_type": "code",
   "execution_count": 13,
   "metadata": {},
   "outputs": [],
   "source": [
    "import spacy, random\n",
    "import pandas as pd"
   ]
  },
  {
   "cell_type": "code",
   "execution_count": 14,
   "metadata": {},
   "outputs": [],
   "source": [
    "jd_data=pd.DataFrame(columns=['Job Description','type_name'])\n",
    "type_names=['DataAnalyst','DataScientist','BusinessAnalyst','DataEngineer']\n",
    "nlp=spacy.blank('en')\n",
    "docs=[]\n",
    "for each in type_names:\n",
    "    jd=pd.read_csv(\"data/generated/{}.csv\".format(each))\n",
    "    jd_cleaned=list(jd['Cleaned JD'].dropna().reset_index(drop=True).apply(nlp))\n",
    "    for d in jd_cleaned:\n",
    "        for t in type_names:\n",
    "            d.cats[t]=int(t==each)\n",
    "        docs.append(d)\n",
    "\n",
    "random.shuffle(docs)\n",
    "train_docs=docs[:len(docs)//2]\n",
    "dev_docs=docs[len(docs)//2:]\n",
    "spacy.tokens.DocBin(docs=train_docs).to_disk(\"./classify_model/corpus/train.spacy\")\n",
    "spacy.tokens.DocBin(docs=dev_docs).to_disk(\"./classify_model/corpus/dev.spacy\")"
   ]
  },
  {
   "cell_type": "code",
   "execution_count": 12,
   "metadata": {},
   "outputs": [
    {
     "data": {
      "text/plain": [
       "15540"
      ]
     },
     "execution_count": 12,
     "metadata": {},
     "output_type": "execute_result"
    }
   ],
   "source": [
    "# !python -m spacy train ./classify_model/config.cfg \\\n",
    "#   --paths.train ./classify_model/corpus/train.spacy  \\\n",
    "#   --paths.dev ./classify_model/corpus/dev.spacy \\\n",
    "#   --output ./classify_model/output --gpu-id 0"
   ]
  },
  {
   "cell_type": "code",
   "execution_count": 15,
   "metadata": {},
   "outputs": [
    {
     "name": "stdout",
     "output_type": "stream",
     "text": [
      "^C\n"
     ]
    }
   ],
   "source": [
    "# !python -m spacy train ./classify_model/cpu_config.cfg --paths.train ./classify_model/corpus/train.spacy  --paths.dev ./classify_model/corpus/dev.spacy --output ./classify_model/output"
   ]
  },
  {
   "cell_type": "code",
   "execution_count": null,
   "metadata": {},
   "outputs": [],
   "source": []
  }
 ],
 "metadata": {
  "interpreter": {
   "hash": "73e03da126b73bfff3642ec5261d56fa25c444ea595de51041687efaa60dda41"
  },
  "kernelspec": {
   "display_name": "Python 3.9.12 ('base')",
   "language": "python",
   "name": "python3"
  },
  "language_info": {
   "codemirror_mode": {
    "name": "ipython",
    "version": 3
   },
   "file_extension": ".py",
   "mimetype": "text/x-python",
   "name": "python",
   "nbconvert_exporter": "python",
   "pygments_lexer": "ipython3",
   "version": "3.9.12"
  },
  "orig_nbformat": 4
 },
 "nbformat": 4,
 "nbformat_minor": 2
}
